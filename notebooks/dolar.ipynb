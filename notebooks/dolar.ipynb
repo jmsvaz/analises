{
 "cells": [
  {
   "cell_type": "markdown",
   "metadata": {},
   "source": [
    "# Análise da taxa de câmbio do DOLAR ao longo do tempo\n",
    "\n",
    "Nesse estudo, será analisado como a taxa de câmbio entre o dolar e o real se comportou ao longo do tempo. Para isso, serão analisadas tanto a taxa de câmbio do dolar comercial quanto do dolar paralelo. O interessante de avaliar a taxa do mercado paralelo é verificar se, em momentos onde a taxa comercial é controlada, a taxa do mercado paralelo segue de maneira mais real a taxa verdadeira. \n",
    "\n",
    "O valor da taxa de câmbio será ajustado tanto pela inflação brasileira quanto pela inflação americana. \n",
    "\n",
    "Várias informações podem ser obtidos no [IPEAData](http://ipeadata.gov.br) e será utilizada a biblioteca [`ipeadatapy`](https://github.com/luanborelli/ipeadatapy/) para acesso a esses dados."
   ]
  },
  {
   "cell_type": "code",
   "execution_count": null,
   "metadata": {},
   "outputs": [],
   "source": [
    "import ipeadatapy as idpy"
   ]
  },
  {
   "cell_type": "markdown",
   "metadata": {},
   "source": [
    "Serão utilizadas as seguintes séries mensais:\n",
    "\n",
    "- Taxa de câmbio - `R$ / US$` - comercial - venda - fim período\n",
    "- Taxa de câmbio - `R$ / US$` - paralelo - venda - fim período"
   ]
  },
  {
   "cell_type": "code",
   "execution_count": null,
   "metadata": {},
   "outputs": [],
   "source": [
    "idpy.list_series(name='Taxa de câmbio - R$ / US$ - comercial - venda - fim período')"
   ]
  },
  {
   "cell_type": "code",
   "execution_count": null,
   "metadata": {},
   "outputs": [],
   "source": [
    "idpy.list_series(name='Taxa de câmbio - R$ / US$ - paralelo - venda - fim período')"
   ]
  },
  {
   "cell_type": "code",
   "execution_count": null,
   "metadata": {},
   "outputs": [],
   "source": [
    "idpy.describe('BM12_ERVF12')"
   ]
  },
  {
   "cell_type": "code",
   "execution_count": null,
   "metadata": {},
   "outputs": [],
   "source": [
    "idpy.describe('BM_ERVF')"
   ]
  },
  {
   "cell_type": "code",
   "execution_count": null,
   "metadata": {},
   "outputs": [],
   "source": [
    "idpy.describe('GM12_BLACKF12')"
   ]
  },
  {
   "cell_type": "markdown",
   "metadata": {},
   "source": [
    "Como estamos interessado na análise mensal, serão utilizadas as séries `BM12_ERVF12` e `GM12_BLACKF12`."
   ]
  },
  {
   "cell_type": "code",
   "execution_count": null,
   "metadata": {},
   "outputs": [],
   "source": [
    "dolar_comercial = idpy.timeseries(\"BM12_ERVF12\")\n",
    "dolar_comercial"
   ]
  },
  {
   "cell_type": "markdown",
   "metadata": {},
   "source": [
    "Podemos observar que a série do dolar comercial inicia-se em janeiro/1953, indo até hoje."
   ]
  },
  {
   "cell_type": "code",
   "execution_count": null,
   "metadata": {},
   "outputs": [],
   "source": [
    "dolar_paralelo = idpy.timeseries('GM12_BLACKF12')\n",
    "dolar_paralelo"
   ]
  },
  {
   "cell_type": "markdown",
   "metadata": {},
   "source": [
    "Podemos observar que a série do dolar paralelo inicia-se em setembro/1947, encerrando em fevereiro/2016."
   ]
  },
  {
   "cell_type": "markdown",
   "metadata": {},
   "source": [
    "Faremos um gráfico das duas séries, em escala logarítmica."
   ]
  },
  {
   "cell_type": "code",
   "execution_count": null,
   "metadata": {},
   "outputs": [],
   "source": [
    "import matplotlib.pyplot as plt"
   ]
  },
  {
   "cell_type": "code",
   "execution_count": null,
   "metadata": {},
   "outputs": [],
   "source": [
    "fig = plt.figure()\n",
    "plt.plot(dolar_comercial['VALUE (R$)'], label = 'comercial')\n",
    "plt.plot(dolar_paralelo['VALUE (R$)'], label = 'paralelo')\n",
    "plt.legend()\n",
    "plt.yscale('log')\n",
    "plt.show()"
   ]
  },
  {
   "cell_type": "markdown",
   "metadata": {},
   "source": [
    "Observamos que há um pico no gráfico do dolar paralelo, próximo de 1970, que precisa ser verificado."
   ]
  },
  {
   "cell_type": "code",
   "execution_count": null,
   "metadata": {},
   "outputs": [],
   "source": [
    "df = dolar_paralelo.loc['1965-01-01':'1970-01-01']\n",
    "print(df['VALUE (R$)'].describe())\n"
   ]
  },
  {
   "cell_type": "markdown",
   "metadata": {},
   "source": [
    "Podemos observar que, reduzindo-se o intervalo da série para o intervalo entre 1965 e 1970, identificamos que o valor máximo é muito discrepante em relação a média."
   ]
  },
  {
   "cell_type": "code",
   "execution_count": null,
   "metadata": {},
   "outputs": [],
   "source": [
    "df[['VALUE (R$)']].idxmax()"
   ]
  },
  {
   "cell_type": "code",
   "execution_count": null,
   "metadata": {},
   "outputs": [],
   "source": [
    "df.loc['1968-05-01':'1969-05-01']"
   ]
  },
  {
   "cell_type": "markdown",
   "metadata": {},
   "source": [
    "Podemos observar que, aparentemente, há um erro no expoente. Deveria ser E**-12 quando é E**-9. As mantissas estão coerentes. Vamos atualizar esse valor e fazer novamente o gráfico para conferir."
   ]
  },
  {
   "cell_type": "code",
   "execution_count": null,
   "metadata": {},
   "outputs": [],
   "source": [
    "df.loc['1968-11-01','VALUE (R$)']"
   ]
  },
  {
   "cell_type": "code",
   "execution_count": null,
   "metadata": {},
   "outputs": [],
   "source": [
    "\n",
    "dolar_paralelo.loc['1968-11-01','VALUE (R$)'] = dolar_paralelo.loc['1968-11-01','VALUE (R$)'] /1000\n",
    "dolar_paralelo.loc['1968-11-01','VALUE (R$)']"
   ]
  },
  {
   "cell_type": "code",
   "execution_count": null,
   "metadata": {},
   "outputs": [],
   "source": [
    "fig = plt.figure()\n",
    "plt.plot(dolar_comercial['VALUE (R$)'], label = 'comercial')\n",
    "plt.plot(dolar_paralelo['VALUE (R$)'], label = 'paralelo')\n",
    "plt.legend()\n",
    "plt.yscale('log')\n",
    "plt.show()"
   ]
  },
  {
   "cell_type": "markdown",
   "metadata": {},
   "source": [
    "Verificamos que o pico sumiu."
   ]
  },
  {
   "cell_type": "markdown",
   "metadata": {},
   "source": [
    "Para o ajuste da taxa de câmbio pela inflação brasileira, o ideal seria a utilização do IPCA, que é o índice utilizado atualmente pelo Banco Central para acompnhar a inflação, mas esse índice foi criado apenas na década de 80, e não cobre o período total das taxas de câmbio. O IGP-DI é mais antigo, servindo melhor aos propósitos da análise em uma escala de tempo maior. De qualquer maneira, será realizadas análises com os 2 índices de inflação."
   ]
  },
  {
   "cell_type": "markdown",
   "metadata": {},
   "source": [
    "Serão utilizadas as seguintes séries mensais:\n",
    "\n",
    "- Preços - IGP-DI - geral - índice (ago. 1994 = 100)\n",
    "- Preços - IPCA - geral - índice (dez. 1993 = 100)"
   ]
  },
  {
   "cell_type": "code",
   "execution_count": null,
   "metadata": {},
   "outputs": [],
   "source": [
    "idpy.list_series(name='Preços - IGP-DI - geral - índice (ago. 1994 = 100)')"
   ]
  },
  {
   "cell_type": "code",
   "execution_count": null,
   "metadata": {},
   "outputs": [],
   "source": [
    "idpy.list_series(name='Preços - IPCA - geral - índice (dez. 1993 = 100)')"
   ]
  },
  {
   "cell_type": "code",
   "execution_count": null,
   "metadata": {},
   "outputs": [],
   "source": [
    "idpy.describe('IGP_IGP')"
   ]
  },
  {
   "cell_type": "code",
   "execution_count": null,
   "metadata": {},
   "outputs": [],
   "source": [
    "\n",
    "idpy.describe('IGP12_IGPDI12')"
   ]
  },
  {
   "cell_type": "code",
   "execution_count": null,
   "metadata": {},
   "outputs": [],
   "source": [
    "idpy.describe('PRECOS12_IPCA12')"
   ]
  },
  {
   "cell_type": "markdown",
   "metadata": {},
   "source": [
    "Como estamos interessado na análise mensal, serão utilizadas as séries `IGP12_IGPDI12` e `PRECOS12_IPCA12`."
   ]
  },
  {
   "cell_type": "code",
   "execution_count": null,
   "metadata": {},
   "outputs": [],
   "source": [
    "igp_di = idpy.timeseries('IGP12_IGPDI12')\n",
    "igp_di"
   ]
  },
  {
   "cell_type": "markdown",
   "metadata": {},
   "source": [
    "Podemos observar que a série do IGP-DI inicia-se em janeiro/1944, indo até hoje."
   ]
  },
  {
   "cell_type": "code",
   "execution_count": null,
   "metadata": {},
   "outputs": [],
   "source": [
    "ipca = idpy.timeseries('PRECOS12_IPCA12')\n",
    "ipca"
   ]
  },
  {
   "cell_type": "markdown",
   "metadata": {},
   "source": [
    "Podemos observar que a série do IPCA inicia-se em dezembro/1979, indo até hoje."
   ]
  },
  {
   "cell_type": "markdown",
   "metadata": {},
   "source": [
    "Para se ajustar os valores do dolar pela inflação, é necessário uma data de referência. Inicialmente, vamos considerar a data mais recente do índice de inflação."
   ]
  },
  {
   "cell_type": "code",
   "execution_count": null,
   "metadata": {},
   "outputs": [],
   "source": [
    "last_igp = igp_di['VALUE (-)'].iat[-1]\n",
    "print(last_igp)"
   ]
  },
  {
   "cell_type": "code",
   "execution_count": null,
   "metadata": {},
   "outputs": [],
   "source": [
    "last_ipca = ipca['VALUE (-)'].iat[-1]\n",
    "print(last_ipca)"
   ]
  },
  {
   "cell_type": "markdown",
   "metadata": {},
   "source": [
    "Vamos criar um novo `dataframe` com as colunas do dolar ajustadas pelos índicies de inflação."
   ]
  },
  {
   "cell_type": "code",
   "execution_count": null,
   "metadata": {},
   "outputs": [],
   "source": [
    "from pandas.core.frame import DataFrame"
   ]
  },
  {
   "cell_type": "code",
   "execution_count": null,
   "metadata": {},
   "outputs": [],
   "source": [
    "dolar = DataFrame()\n",
    "dolar['comercial'] = dolar_comercial['VALUE (R$)']\n",
    "dolar['paralelo'] = dolar_paralelo['VALUE (R$)']\n",
    "dolar['igp'] = igp_di['VALUE (-)']\n",
    "dolar['ipca'] = ipca['VALUE (-)']\n",
    "dolar['comercial_igp_atual'] = dolar['comercial'] * last_igp/dolar['igp']\n",
    "dolar['paralelo_igp_atual'] = dolar['paralelo'] * last_igp/dolar['igp']\n",
    "dolar['comercial_ipca_atual'] = dolar['comercial'] * last_ipca/dolar['ipca']\n",
    "dolar['paralelo_ipca_atual'] = dolar['paralelo'] * last_ipca/dolar['ipca']\n",
    "dolar"
   ]
  },
  {
   "cell_type": "code",
   "execution_count": null,
   "metadata": {},
   "outputs": [],
   "source": [
    "fig = plt.figure()\n",
    "plt.plot(dolar['comercial_igp_atual'], label = 'comercial (IGP-DI)')\n",
    "plt.plot(dolar['paralelo_igp_atual'], label = 'paralelo (IGP-DI)')\n",
    "plt.plot(dolar['comercial_ipca_atual'], label = 'comercial (IPCA)')\n",
    "plt.plot(dolar['paralelo_ipca_atual'], label = 'paralelo (IPCA)')\n",
    "plt.legend()\n",
    "plt.show()"
   ]
  },
  {
   "cell_type": "markdown",
   "metadata": {},
   "source": [
    "Com relação ao índice de inflação americana, embora o IPEAData tenha os dados do CPI, essa série não está disponível na API. "
   ]
  },
  {
   "cell_type": "markdown",
   "metadata": {},
   "source": [
    "Os dados da inflação americana (Consumer Price Index for All Urban Consumers: All Items in U.S. City Average) estão disóníveis no [Federal Reserve Bank of St. Louis](https://fred.stlouisfed.org/) e será utilizada a biblioteca `pandas_datareaader` para acesso a esses dados. "
   ]
  },
  {
   "cell_type": "code",
   "execution_count": null,
   "metadata": {},
   "outputs": [],
   "source": [
    "import pandas_datareader.data as web\n",
    "import datetime"
   ]
  },
  {
   "cell_type": "code",
   "execution_count": null,
   "metadata": {},
   "outputs": [],
   "source": [
    "start = datetime.datetime(1940, 1, 1)\n",
    "cpi = web.DataReader('CPIAUCSL', 'fred', start )\n",
    "cpi"
   ]
  },
  {
   "cell_type": "markdown",
   "metadata": {},
   "source": [
    "Podemos observar que a série do CPI inicia-se em janeiro/1947, indo até hoje."
   ]
  },
  {
   "cell_type": "code",
   "execution_count": null,
   "metadata": {},
   "outputs": [],
   "source": [
    "last_cpi = cpi['CPIAUCSL'].iat[-1]\n",
    "print(last_cpi)"
   ]
  },
  {
   "cell_type": "code",
   "execution_count": null,
   "metadata": {},
   "outputs": [],
   "source": [
    "dolar['cpi'] = cpi"
   ]
  },
  {
   "cell_type": "code",
   "execution_count": null,
   "metadata": {},
   "outputs": [],
   "source": [
    "dolar['comercial_igp_cpi_atual'] = dolar['comercial_igp_atual']*dolar['cpi']/last_cpi\n",
    "dolar['paralelo_igp_cpi_atual'] = dolar['paralelo_igp_atual']*dolar['cpi']/last_cpi\n",
    "dolar['comercial_ipca_cpi_atual'] = dolar['comercial_ipca_atual']*dolar['cpi']/last_cpi\n",
    "dolar['paralelo_ipca_cpi_atual'] = dolar['paralelo_ipca_atual']*dolar['cpi']/last_cpi\n",
    "dolar"
   ]
  },
  {
   "cell_type": "code",
   "execution_count": null,
   "metadata": {},
   "outputs": [],
   "source": [
    "fig = plt.figure()\n",
    "a1 = fig.add_axes([0,0,1,1])\n",
    "a1.plot(dolar['comercial_igp_cpi_atual'], label = 'comercial (IGP-DI)')\n",
    "a1.plot(dolar['paralelo_igp_cpi_atual'], label = 'paralelo (IGP-DI)')\n",
    "a1.plot(dolar['comercial_ipca_cpi_atual'], label = 'comercial (IPCA)')\n",
    "a1.plot(dolar['paralelo_ipca_cpi_atual'], label = 'paralelo (IPCA)')\n",
    "a1.set_ylabel('US$')\n",
    "\n",
    "plt.legend()\n",
    "plt.show()"
   ]
  },
  {
   "cell_type": "code",
   "execution_count": null,
   "metadata": {},
   "outputs": [],
   "source": [
    "dolar['comercial_igp_cpi_atual'].describe()"
   ]
  },
  {
   "cell_type": "code",
   "execution_count": null,
   "metadata": {},
   "outputs": [],
   "source": [
    "dolar['comercial_ipca_cpi_atual'].describe()"
   ]
  },
  {
   "cell_type": "markdown",
   "metadata": {},
   "source": [
    "Vamos apurar como a inflação se comportou ao longo desse tempo:"
   ]
  },
  {
   "cell_type": "code",
   "execution_count": null,
   "metadata": {},
   "outputs": [],
   "source": [
    "dolar['pct_igp'] = 100*dolar['igp'].pct_change()\n",
    "dolar['pct_ipca'] = 100*dolar['ipca'].pct_change()\n",
    "dolar"
   ]
  },
  {
   "cell_type": "code",
   "execution_count": null,
   "metadata": {},
   "outputs": [],
   "source": [
    "dolar['pct_igp'].describe()"
   ]
  },
  {
   "cell_type": "code",
   "execution_count": null,
   "metadata": {},
   "outputs": [],
   "source": [
    "dolar['pct_ipca'].describe()"
   ]
  },
  {
   "cell_type": "code",
   "execution_count": null,
   "metadata": {},
   "outputs": [],
   "source": [
    "fig = plt.figure()\n",
    "a1 = fig.add_axes([0,0,1,1])\n",
    "plt.title('Inflação')\n",
    "\n",
    "a1.plot(dolar['pct_igp'], label = 'IGP-DI')\n",
    "a1.plot(dolar['pct_ipca'], label = 'IPCA')\n",
    "a1.set_ylabel('%')\n",
    "\n",
    "plt.legend()\n",
    "plt.show()"
   ]
  },
  {
   "cell_type": "code",
   "execution_count": null,
   "metadata": {},
   "outputs": [],
   "source": [
    "fig = plt.figure()\n",
    "a1 = fig.add_axes([0,0,1,1])\n",
    "plt.title('Inflação pós Plano Real')\n",
    "\n",
    "data_plano_real = '1994-07-01'\n",
    "a1.plot(dolar[dolar.index > data_plano_real]['pct_igp'], label = 'IGP-DI')\n",
    "a1.plot(dolar[dolar.index > data_plano_real]['pct_ipca'], label = 'IPCA')\n",
    "a1.set_ylabel('%')\n",
    "\n",
    "plt.legend()\n",
    "plt.show()"
   ]
  },
  {
   "cell_type": "code",
   "execution_count": null,
   "metadata": {},
   "outputs": [],
   "source": [
    "dolar[dolar.index > data_plano_real]['pct_igp'].describe()"
   ]
  },
  {
   "cell_type": "code",
   "execution_count": null,
   "metadata": {},
   "outputs": [],
   "source": [
    "dolar[dolar.index > data_plano_real]['pct_ipca'].describe()"
   ]
  },
  {
   "cell_type": "code",
   "execution_count": null,
   "metadata": {},
   "outputs": [],
   "source": [
    "fig = plt.figure()\n",
    "ax = fig.add_axes([0,0,1,1])\n",
    "plt.title('Taxa de câmbio (deflacionada pelo IGP-DI e CPI)')\n",
    "ax.set_ylabel('Taxa de câmbio (R\\$/US\\$)')\n",
    "\n",
    "ax.plot(dolar['paralelo_igp_cpi_atual'], color='red', label = 'paralelo')\n",
    "ax.plot(dolar['comercial_igp_cpi_atual'], color='green', label = 'comercial')\n",
    "\n",
    "threshold = 2\n",
    "ax.fill_between(dolar.index, 0, 1, where=dolar['pct_igp'] > threshold,\n",
    "                color='lightpink', alpha=0.7, transform=ax.get_xaxis_transform(),\n",
    "                label='IGP-DI > {}%'.format(threshold))\n",
    "\n",
    "plt.legend(loc = 'upper right')\n",
    "\n",
    "plt.show()"
   ]
  },
  {
   "cell_type": "code",
   "execution_count": null,
   "metadata": {},
   "outputs": [],
   "source": [
    "fig = plt.figure()\n",
    "ax = fig.add_axes([0,0,1,1])\n",
    "plt.title('Taxa de câmbio (deflacionada pelo IPCA e CPI)')\n",
    "ax.set_ylabel('Taxa de câmbio (R\\$/US\\$)')\n",
    "\n",
    "ax.plot(dolar['paralelo_ipca_cpi_atual'], color='red', label = 'paralelo')\n",
    "ax.plot(dolar['comercial_ipca_cpi_atual'], color='green', label = 'comercial')\n",
    "\n",
    "threshold = 2\n",
    "ax.fill_between(dolar.index, 0, 1, where=dolar['pct_ipca'] > threshold,\n",
    "                color='lightpink', alpha=0.7, transform=ax.get_xaxis_transform(),\n",
    "                label='IPCA > {}%'.format(threshold))\n",
    "\n",
    "plt.legend(loc = 'upper right')\n",
    "\n",
    "plt.show()"
   ]
  },
  {
   "cell_type": "code",
   "execution_count": null,
   "metadata": {},
   "outputs": [],
   "source": [
    "import numpy as np\n",
    "\n",
    "fig, (ax1, ax2) = plt.subplots(2, sharex=True)\n",
    "fig.suptitle('Taxa de câmbio')\n",
    "\n",
    "threshold = 2\n",
    "\n",
    "ax1.set_ylabel('R\\$/US\\$')\n",
    "ax1.set_title('Deflacionada pelo IGP-DI e CPI')\n",
    "\n",
    "ax1.plot(dolar['paralelo_igp_cpi_atual'], color='red', label = 'paralelo')\n",
    "ax1.plot(dolar['comercial_igp_cpi_atual'], color='green', label = 'comercial')\n",
    "ax1.axhline(dolar['paralelo_igp_cpi_atual'].mean(), linestyle='dotted', color='red', label = 'paralelo (média)')\n",
    "ax1.axhline(dolar['comercial_igp_cpi_atual'].mean(), linestyle='dotted', color='green', label = 'comercial (média)')\n",
    "\n",
    "ax1.fill_between(dolar.index, 0, 1, where=dolar['pct_igp'] > threshold,\n",
    "                color='lightpink', alpha=0.7, transform=ax1.get_xaxis_transform(),\n",
    "                label='IGP-DI > {}%'.format(threshold))\n",
    "\n",
    "ax1.legend(bbox_to_anchor=(1.3, 0.6),fontsize=8)\n",
    "ax1.set_yticks(np.arange(0, 1 + max(dolar['paralelo_igp_cpi_atual'].max(),dolar['comercial_igp_cpi_atual'].max()), 1))\n",
    "                \n",
    "ax2.set_ylabel('R\\$/US\\$')\n",
    "ax2.set_title('Deflacionada pelo IPCA e CPI')\n",
    "\n",
    "ax2.plot(dolar['paralelo_ipca_cpi_atual'], color='red', label = 'paralelo')\n",
    "ax2.plot(dolar['comercial_ipca_cpi_atual'], color='green', label = 'comercial')\n",
    "ax2.axhline(dolar['paralelo_ipca_cpi_atual'].mean(), linestyle='dotted', color='red', label = 'paralelo (média)')\n",
    "ax2.axhline(dolar['comercial_ipca_cpi_atual'].mean(), linestyle='dotted', color='green', label = 'comercial (média)')\n",
    "\n",
    "ax2.fill_between(dolar.index, 0, 1, where=dolar['pct_ipca'] > threshold,\n",
    "                color='lightpink', alpha=0.7, transform=ax2.get_xaxis_transform(),\n",
    "                label='IPCA > {}%'.format(threshold))\n",
    "\n",
    "ax2.legend(bbox_to_anchor=(1.3, 0.6),fontsize=8)\n",
    "\n",
    "plt.show()"
   ]
  },
  {
   "cell_type": "code",
   "execution_count": null,
   "metadata": {},
   "outputs": [],
   "source": []
  }
 ],
 "metadata": {
  "kernelspec": {
   "display_name": "env",
   "language": "python",
   "name": "env"
  },
  "language_info": {
   "codemirror_mode": {
    "name": "ipython",
    "version": 3
   },
   "file_extension": ".py",
   "mimetype": "text/x-python",
   "name": "python",
   "nbconvert_exporter": "python",
   "pygments_lexer": "ipython3",
   "version": "3.9.5"
  },
  "metadata": {
   "interpreter": {
    "hash": "074b9fed338e72046252f8502883b6cdde387efc9c8da803fa3d5c31b67301ee"
   }
  }
 },
 "nbformat": 4,
 "nbformat_minor": 2
}
